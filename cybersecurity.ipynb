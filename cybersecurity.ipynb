{
  "nbformat": 4,
  "nbformat_minor": 0,
  "metadata": {
    "colab": {
      "provenance": [],
      "authorship_tag": "ABX9TyPhCZjwjYD5MQAP6bEu8z1H",
      "include_colab_link": true
    },
    "kernelspec": {
      "name": "python3",
      "display_name": "Python 3"
    },
    "language_info": {
      "name": "python"
    }
  },
  "cells": [
    {
      "cell_type": "markdown",
      "metadata": {
        "id": "view-in-github",
        "colab_type": "text"
      },
      "source": [
        "<a href=\"https://colab.research.google.com/github/GabrielWateyma/Couses/blob/main/cybersecurity.ipynb\" target=\"_parent\"><img src=\"https://colab.research.google.com/assets/colab-badge.svg\" alt=\"Open In Colab\"/></a>"
      ]
    },
    {
      "cell_type": "markdown",
      "source": [
        "## Simple Caesar Cipher Encoder\n",
        "\n",
        "```\n",
        "\n",
        "```\n",
        "\n"
      ],
      "metadata": {
        "id": "J4G-diUH0Osu"
      }
    },
    {
      "cell_type": "code",
      "execution_count": 1,
      "metadata": {
        "colab": {
          "base_uri": "https://localhost:8080/"
        },
        "id": "vFai2FL80WqD",
        "outputId": "33a41e65-1a1d-4359-dc73-11e31c4a2a1a"
      },
      "outputs": [
        {
          "output_type": "stream",
          "name": "stdout",
          "text": [
            "Original message: Hello World 123\n",
            "Encoded message: Khoor Zruog 456\n"
          ]
        }
      ],
      "source": [
        "def caesar_cipher_encode(text, shift):\n",
        "  \"\"\"Encodes a message using a Caesar cipher.\"\"\"\n",
        "  result = ''\n",
        "  for char in text:\n",
        "    if char.isalpha():\n",
        "      start = ord('a') if char.islower() else ord('A')\n",
        "      shifted_char = chr((ord(char) - start + shift) % 26 + start)\n",
        "    elif char.isdigit():\n",
        "      shifted_char = str((int(char) + shift) % 10)\n",
        "    else:\n",
        "      shifted_char = char\n",
        "    result += shifted_char\n",
        "  return result\n",
        "\n",
        "message = \"Hello World 123\"\n",
        "shift_amount = 3\n",
        "encoded_message = caesar_cipher_encode(message, shift_amount)\n",
        "print(f\"Original message: {message}\")\n",
        "print(f\"Encoded message: {encoded_message}\")\n"
      ]
    },
    {
      "cell_type": "markdown",
      "source": [
        "##Simple Brute-Force Password Guesser"
      ],
      "metadata": {
        "id": "ioSax5FU2lQ4"
      }
    },
    {
      "cell_type": "code",
      "source": [
        "import time\n",
        "\n",
        "target_password = \"secret\"\n",
        "possible_passwords = [\"guest\", \"password\", \"12345\", \"secret\", \"admin\"]\n",
        "attempts = 0\n",
        "\n",
        "for guess in possible_passwords:\n",
        "  attempts += 1\n",
        "  print(f\"Attempt {attempts}: Trying password '{guess}'...\")\n",
        "  time.sleep(0.5) # Simulate some processing time\n",
        "  if guess == target_password:\n",
        "    print(f\"Success! Password found in {attempts} attempts: '{guess}'\")\n",
        "    break\n",
        "else:\n",
        "  print(\"Password not found in the list of possible passwords.\")"
      ],
      "metadata": {
        "colab": {
          "base_uri": "https://localhost:8080/"
        },
        "id": "KEBuRTMP2n4u",
        "outputId": "5a6663fc-1985-4ce4-89de-e05635b6c4b7"
      },
      "execution_count": 3,
      "outputs": [
        {
          "output_type": "stream",
          "name": "stdout",
          "text": [
            "Attempt 1: Trying password 'guest'...\n",
            "Attempt 2: Trying password 'password'...\n",
            "Attempt 3: Trying password '12345'...\n",
            "Attempt 4: Trying password 'secret'...\n",
            "Success! Password found in 4 attempts: 'secret'\n"
          ]
        }
      ]
    },
    {
      "cell_type": "markdown",
      "source": [
        "##Simple Password Hash Cracker"
      ],
      "metadata": {
        "id": "VrFjxUSC4ISn"
      }
    },
    {
      "cell_type": "code",
      "source": [
        "import hashlib\n",
        "import time\n",
        "\n",
        "target_hash = \"5f4dcc3b5aa765d61d8327deb882cf99\" # This is the MD5 hash of the word \"password\"\n",
        "possible_passwords = [\"secret\", \"guest\", \"password123\", \"password\", \"qwerty\"]\n",
        "cracked_passwords = []\n",
        "\n",
        "for password in possible_passwords:\n",
        "  hashed_password = hashlib.md5(password.encode()).hexdigest()\n",
        "  print(f\"Trying password '{password}': Hash is '{hashed_password}'\")\n",
        "  time.sleep(0.3) # Simulate some processing time\n",
        "  if hashed_password == target_hash:\n",
        "    cracked_passwords.append(password)\n",
        "\n",
        "if cracked_passwords:\n",
        "  print(f\"\\nFound a match! The following password(s) produce the target hash '{target_hash}':\")\n",
        "  for pwd in cracked_passwords:\n",
        "    print(f\"- {pwd}\")\n",
        "else:\n",
        "  print(f\"\\nNo matching password found in the list for the hash '{target_hash}'.\")"
      ],
      "metadata": {
        "colab": {
          "base_uri": "https://localhost:8080/"
        },
        "id": "UeGo4NAN4KIX",
        "outputId": "23f7bfe3-139d-4e50-e9dd-fa4faae2ea50"
      },
      "execution_count": 5,
      "outputs": [
        {
          "output_type": "stream",
          "name": "stdout",
          "text": [
            "Trying password 'secret': Hash is '5ebe2294ecd0e0f08eab7690d2a6ee69'\n",
            "Trying password 'guest': Hash is '084e0343a0486ff05530df6c705c8bb4'\n",
            "Trying password 'password123': Hash is '482c811da5d5b4bc6d497ffa98491e38'\n",
            "Trying password 'password': Hash is '5f4dcc3b5aa765d61d8327deb882cf99'\n",
            "Trying password 'qwerty': Hash is 'd8578edf8458ce06fbc5bb76a58c5ca4'\n",
            "\n",
            "Found a match! The following password(s) produce the target hash '5f4dcc3b5aa765d61d8327deb882cf99':\n",
            "- password\n"
          ]
        }
      ]
    },
    {
      "cell_type": "markdown",
      "source": [
        "Basic SQL Injection Vulnerability"
      ],
      "metadata": {
        "id": "1wO7YhXI6_Ev"
      }
    },
    {
      "cell_type": "code",
      "source": [
        "def fetch_user(user_id):\n",
        "  \"\"\"Simulates fetching a user from a database based on their ID.\"\"\"\n",
        "  query = f\"SELECT * FROM users WHERE id = {user_id};\"\n",
        "  print(f\"Executing query: {query}\")\n",
        "  # In a real application, this is where the query would be sent to a database.\n",
        "  # For this example, we'll just print the constructed query.\n",
        "\n",
        "print(\"Enter a user ID to fetch:\")\n",
        "user_input = input()\n",
        "fetch_user(user_input)\n",
        "\n",
        "print(\"\\n--- Example of a potential SQL Injection ---\")\n",
        "malicious_input = \"1 OR 1=1 --\"\n",
        "print(f\"Trying malicious input: {malicious_input}\")\n",
        "fetch_user(malicious_input)"
      ],
      "metadata": {
        "colab": {
          "base_uri": "https://localhost:8080/"
        },
        "id": "oIx85dER6-1I",
        "outputId": "433112f1-37bb-4150-9db2-3c44d0c36cc4"
      },
      "execution_count": 10,
      "outputs": [
        {
          "output_type": "stream",
          "name": "stdout",
          "text": [
            "Enter a user ID to fetch:\n",
            "5 OR 1=1 --\n",
            "Executing query: SELECT * FROM users WHERE id = 5 OR 1=1 --;\n",
            "\n",
            "--- Example of a potential SQL Injection ---\n",
            "Trying malicious input: 1 OR 1=1 --\n",
            "Executing query: SELECT * FROM users WHERE id = 1 OR 1=1 --;\n"
          ]
        }
      ]
    },
    {
      "cell_type": "markdown",
      "source": [
        "##Simple Port Scanner"
      ],
      "metadata": {
        "id": "0gWZZbr4-gAh"
      }
    },
    {
      "cell_type": "code",
      "source": [
        "import socket\n",
        "from http.server import HTTPServer, SimpleHTTPRequestHandler\n",
        "import threading\n",
        "\n",
        "def scan_port(target_ip, port):\n",
        "    \"\"\"Attempts to connect to a specific port on the target IP\"\"\"\n",
        "    try:\n",
        "        # Create a TCP socket\n",
        "        sock = socket.socket(socket.AF_INET, socket.SOCK_STREAM)\n",
        "        sock.settimeout(1)  # 1 second timeout\n",
        "\n",
        "        # Try to connect to the port\n",
        "        result = sock.connect_ex((target_ip, port))\n",
        "\n",
        "        if result == 0:\n",
        "            print(f\"✅ Port {port} is OPEN\")\n",
        "        else:\n",
        "            print(f\"❌ Port {port} is CLOSED\")\n",
        "\n",
        "        sock.close()\n",
        "    except Exception as e:\n",
        "        print(f\"⚠️ Error scanning port {port}: {str(e)}\")\n",
        "\n",
        "def run_webserver():\n",
        "    \"\"\"Starts a temporary web server for demonstration\"\"\"\n",
        "    server = HTTPServer(('localhost', 8080), SimpleHTTPRequestHandler)\n",
        "    print(\"\\n🌐 Web server running at http://localhost:8080\")\n",
        "    server.serve_forever()\n",
        "\n",
        "# Main execution\n",
        "if __name__ == \"__main__\":\n",
        "    # Configuration\n",
        "    target_ip = \"localhost\"  # For Colab environment\n",
        "    ports_to_scan = [21, 22, 80, 443, 3306, 3389, 8080]  # Common ports\n",
        "\n",
        "    print(\"\\n🔧 Port Scanner in Google Colab\")\n",
        "    print(\"--------------------------------\")\n",
        "\n",
        "    # Start a demo web server in background\n",
        "    server_thread = threading.Thread(target=run_webserver)\n",
        "    server_thread.daemon = True\n",
        "    server_thread.start()\n",
        "\n",
        "    # Scan ports\n",
        "    print(f\"\\n🔍 Scanning ports on {target_ip}...\\n\")\n",
        "    for port in ports_to_scan:\n",
        "        scan_port(target_ip, port)\n",
        "\n",
        "    print(\"\\nNote: In Colab, most ports will show closed as we're in a restricted environment.\")\n",
        "    print(\"Port 8080 appears open because we started a temporary web server.\")"
      ],
      "metadata": {
        "colab": {
          "base_uri": "https://localhost:8080/"
        },
        "id": "7o9821hx-o6f",
        "outputId": "479410c6-7bbc-4dd8-f10c-66b75bce199b"
      },
      "execution_count": 18,
      "outputs": [
        {
          "output_type": "stream",
          "name": "stdout",
          "text": [
            "\n",
            "🔧 Port Scanner in Google Colab\n",
            "--------------------------------\n",
            "\n",
            "🔍 Scanning ports on localhost...\n",
            "\n",
            "❌ Port 21 is CLOSED\n",
            "❌ Port 22 is CLOSED\n",
            "❌ Port 80 is CLOSED\n",
            "❌ Port 443 is CLOSED\n",
            "❌ Port 3306 is CLOSED\n",
            "❌ Port 3389 is CLOSED\n",
            "✅ Port 8080 is OPEN\n",
            "\n",
            "Note: In Colab, most ports will show closed as we're in a restricted environment.\n",
            "Port 8080 appears open because we started a temporary web server.\n"
          ]
        },
        {
          "output_type": "stream",
          "name": "stderr",
          "text": [
            "Exception in thread Thread-8 (run_webserver):\n",
            "Traceback (most recent call last):\n",
            "  File \"/usr/lib/python3.11/threading.py\", line 1045, in _bootstrap_inner\n",
            "    self.run()\n",
            "  File \"/usr/lib/python3.11/threading.py\", line 982, in run\n",
            "    self._target(*self._args, **self._kwargs)\n",
            "  File \"<ipython-input-18-229a0973f7f9>\", line 26, in run_webserver\n",
            "  File \"/usr/lib/python3.11/socketserver.py\", line 456, in __init__\n",
            "    self.server_bind()\n",
            "  File \"/usr/lib/python3.11/http/server.py\", line 136, in server_bind\n",
            "    socketserver.TCPServer.server_bind(self)\n",
            "  File \"/usr/lib/python3.11/socketserver.py\", line 472, in server_bind\n",
            "    self.socket.bind(self.server_address)\n",
            "OSError: [Errno 98] Address already in use\n"
          ]
        }
      ]
    },
    {
      "cell_type": "markdown",
      "source": [
        "Basic Command Injection Vulnerability"
      ],
      "metadata": {
        "id": "I_mPgmizC2xJ"
      }
    },
    {
      "cell_type": "code",
      "source": [
        "import subprocess\n",
        "\n",
        "def ping_host(filename_or_ip):\n",
        "  \"\"\"Simulates pinging a host or using a filename in a command.\"\"\"\n",
        "  command = f\"ping -c 1 {filename_or_ip}\" # Simulating a ping command\n",
        "  print(f\"Executing command: {command}\")\n",
        "  try:\n",
        "    result = subprocess.run(command, shell=True, capture_output=True, text=True, timeout=5)\n",
        "    print(\"Command Output:\")\n",
        "    print(result.stdout)\n",
        "    if result.stderr:\n",
        "      print(\"Command Errors:\")\n",
        "      print(result.stderr)\n",
        "  except subprocess.TimeoutExpired:\n",
        "    print(\"Command timed out.\")\n",
        "  except Exception as e:\n",
        "    print(f\"An error occurred: {e}\")\n",
        "\n",
        "print(\"Enter a filename or IP address to 'ping':\")\n",
        "user_input = input()\n",
        "ping_host(user_input)\n",
        "\n",
        "print(\"\\n--- Example of a potential Command Injection ---\")\n",
        "malicious_input = \"google.com && ls -l\"\n",
        "print(f\"Trying malicious input: {malicious_input}\")\n",
        "ping_host(malicious_input)"
      ],
      "metadata": {
        "colab": {
          "base_uri": "https://localhost:8080/"
        },
        "id": "JNlRjUC0C3uB",
        "outputId": "d48de16a-f1f0-4bc5-b1f7-406bccc8ef3b"
      },
      "execution_count": 21,
      "outputs": [
        {
          "output_type": "stream",
          "name": "stdout",
          "text": [
            "Enter a filename or IP address to 'ping':\n",
            "google.com ; cat /etc/passwd\n",
            "Executing command: ping -c 1 google.com ; cat /etc/passwd\n",
            "Command Output:\n",
            "root:x:0:0:root:/root:/bin/bash\n",
            "daemon:x:1:1:daemon:/usr/sbin:/usr/sbin/nologin\n",
            "bin:x:2:2:bin:/bin:/usr/sbin/nologin\n",
            "sys:x:3:3:sys:/dev:/usr/sbin/nologin\n",
            "sync:x:4:65534:sync:/bin:/bin/sync\n",
            "games:x:5:60:games:/usr/games:/usr/sbin/nologin\n",
            "man:x:6:12:man:/var/cache/man:/usr/sbin/nologin\n",
            "lp:x:7:7:lp:/var/spool/lpd:/usr/sbin/nologin\n",
            "mail:x:8:8:mail:/var/mail:/usr/sbin/nologin\n",
            "news:x:9:9:news:/var/spool/news:/usr/sbin/nologin\n",
            "uucp:x:10:10:uucp:/var/spool/uucp:/usr/sbin/nologin\n",
            "proxy:x:13:13:proxy:/bin:/usr/sbin/nologin\n",
            "www-data:x:33:33:www-data:/var/www:/usr/sbin/nologin\n",
            "backup:x:34:34:backup:/var/backups:/usr/sbin/nologin\n",
            "list:x:38:38:Mailing List Manager:/var/list:/usr/sbin/nologin\n",
            "irc:x:39:39:ircd:/run/ircd:/usr/sbin/nologin\n",
            "gnats:x:41:41:Gnats Bug-Reporting System (admin):/var/lib/gnats:/usr/sbin/nologin\n",
            "nobody:x:65534:65534:nobody:/nonexistent:/usr/sbin/nologin\n",
            "_apt:x:100:65534::/nonexistent:/usr/sbin/nologin\n",
            "systemd-network:x:101:102:systemd Network Management,,,:/run/systemd:/usr/sbin/nologin\n",
            "systemd-resolve:x:102:103:systemd Resolver,,,:/run/systemd:/usr/sbin/nologin\n",
            "messagebus:x:103:104::/nonexistent:/usr/sbin/nologin\n",
            "\n",
            "Command Errors:\n",
            "/bin/sh: 1: ping: not found\n",
            "\n",
            "\n",
            "--- Example of a potential Command Injection ---\n",
            "Trying malicious input: google.com && ls -l\n",
            "Executing command: ping -c 1 google.com && ls -l\n",
            "Command Output:\n",
            "\n",
            "Command Errors:\n",
            "/bin/sh: 1: ping: not found\n",
            "\n"
          ]
        }
      ]
    }
  ]
}